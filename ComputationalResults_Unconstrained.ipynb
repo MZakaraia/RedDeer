{
 "cells": [
  {
   "cell_type": "code",
   "execution_count": null,
   "id": "dce9b2b1",
   "metadata": {},
   "outputs": [],
   "source": [
    "from red_deer_optimization import *\n",
    "from RedDeer_Chaotic_Mapping import *\n",
    "from StandardRedDeer import *\n",
    "from genetic_algorithm import *\n",
    "from functions_test import *\n",
    "import pandas as pd\n",
    "import matplotlib.pyplot as plt\n",
    "import re\n",
    "TestFunctions = pd.read_excel('TestFunctions.xlsx')\n",
    "def outputFunc():\n",
    "    return np.array([rdo.optimize()[1] for _ in range(10)])"
   ]
  },
  {
   "cell_type": "code",
   "execution_count": null,
   "id": "ce600e27",
   "metadata": {},
   "outputs": [],
   "source": [
    "columnsNames = ['Function Name', 'Mean', 'Std', 'Min', 'Max']\n",
    "Results = pd.DataFrame(columns= columnsNames)\n",
    "for i in range(TestFunctions.shape[0]):\n",
    "    FunNameCode, FuncName, LB, UB = TestFunctions.loc[i]\n",
    "    fn = eval(FunNameCode)\n",
    "    rdo = StandardRedDeerOptimization(fn, \n",
    "                    dimensions=10,\n",
    "                    bounds=(LB, UB), max_iter=500)\n",
    "    Mean = outputFunc().mean()\n",
    "    Std = outputFunc().std()\n",
    "    Min = outputFunc().min()\n",
    "    Max = outputFunc().max()\n",
    "    Results = pd.concat([Results, pd.DataFrame([FuncName, Mean, Std, Min, Max], index=columnsNames).T])\n",
    "\n",
    "Results.to_excel('StandardRD_Unconstrained.xlsx', index = False)"
   ]
  },
  {
   "cell_type": "code",
   "execution_count": null,
   "id": "cee80850",
   "metadata": {},
   "outputs": [],
   "source": [
    "columnsNames = ['Function Name', 'Mean', 'Std', 'Min', 'Max']\n",
    "Results = pd.DataFrame(columns= columnsNames)\n",
    "for i in range(TestFunctions.shape[0]):\n",
    "    FunNameCode, FuncName, LB, UB = TestFunctions.loc[i]\n",
    "    fn = eval(FunNameCode)\n",
    "    rdo = RedDeerOptimization(fn, \n",
    "                    dimensions=10,\n",
    "                    bounds=(LB, UB),\n",
    "                    population_size=50,\n",
    "                    num_males=15,\n",
    "                    roosting_males=0.4,\n",
    "                    max_iter=500)\n",
    "    Mean = outputFunc().mean()\n",
    "    Std = outputFunc().std()\n",
    "    Min = outputFunc().min()\n",
    "    Max = outputFunc().max()\n",
    "    Results = pd.concat([Results, pd.DataFrame([FuncName, Mean, Std, Min, Max], index=columnsNames).T])\n",
    "\n",
    "Results.to_excel('ConvexRD_Unconstrained.xlsx', index = False)"
   ]
  },
  {
   "cell_type": "code",
   "execution_count": null,
   "id": "e0232497",
   "metadata": {},
   "outputs": [],
   "source": [
    "columnsNames = ['Function Name', 'Mean', 'Std', 'Min', 'Max']\n",
    "Results = pd.DataFrame(columns= columnsNames)\n",
    "for i in range(TestFunctions.shape[0]):\n",
    "    FunNameCode, FuncName, LB, UB = TestFunctions.loc[i]\n",
    "    fn = eval(FunNameCode)\n",
    "    rdo = RedDeerOptimization_Chaotic(fn, \n",
    "                    dimensions=10,\n",
    "                    bounds=(LB, UB),\n",
    "                    population_size=50,\n",
    "                    num_males=15,\n",
    "                    roosting_males=0.4,\n",
    "                    max_iter=500)\n",
    "    Mean = outputFunc().mean()\n",
    "    Std = outputFunc().std()\n",
    "    Min = outputFunc().min()\n",
    "    Max = outputFunc().max()\n",
    "    Results = pd.concat([Results, pd.DataFrame([FuncName, Mean, Std, Min, Max], index=columnsNames).T])\n",
    "\n",
    "Results.to_excel('Chaiotic_ConvexRD_Unconstrained.xlsx', index = False)"
   ]
  },
  {
   "cell_type": "code",
   "execution_count": null,
   "id": "a7fe8b02",
   "metadata": {},
   "outputs": [],
   "source": [
    "import os\n",
    "os.getw"
   ]
  }
 ],
 "metadata": {
  "kernelspec": {
   "display_name": "Python 3",
   "language": "python",
   "name": "python3"
  },
  "language_info": {
   "name": "python",
   "version": "3.13.3"
  }
 },
 "nbformat": 4,
 "nbformat_minor": 5
}
