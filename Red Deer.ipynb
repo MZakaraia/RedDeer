{
 "cells": [
  {
   "cell_type": "code",
   "execution_count": 1,
   "metadata": {},
   "outputs": [],
   "source": [
    "from red_deer_optimization import *\n",
    "from functions_test import *\n",
    "import pandas as pd\n",
    "import matplotlib.pyplot as plt"
   ]
  },
  {
   "cell_type": "code",
   "execution_count": 6,
   "metadata": {},
   "outputs": [],
   "source": [
    "TestFunctions = pd.read_excel('TestFunctions.xlsx')"
   ]
  },
  {
   "cell_type": "code",
   "execution_count": 9,
   "metadata": {},
   "outputs": [
    {
     "data": {
      "text/plain": [
       "('ackley', 'Ackley', -32.0, 32.0)"
      ]
     },
     "execution_count": 9,
     "metadata": {},
     "output_type": "execute_result"
    }
   ],
   "source": [
    "FunNameCode, FuncName, LB, UB = TestFunctions.loc[0]\n",
    "FunNameCode, FuncName, LB, UB"
   ]
  },
  {
   "cell_type": "code",
   "execution_count": null,
   "metadata": {},
   "outputs": [],
   "source": [
    "for i in TestFunctions.shape[0]:\n",
    "    FunNameCode, FuncName, LB, UB = TestFunctions.loc[i]\n",
    "    \n"
   ]
  },
  {
   "cell_type": "code",
   "execution_count": 2,
   "metadata": {},
   "outputs": [
    {
     "name": "stdout",
     "output_type": "stream",
     "text": [
      "Best Solution: [-2.60796807e-02 -8.52576904e-03 -9.09595597e-01  2.96418728e-02\n",
      " -1.14938428e-03 -2.68637480e-02 -1.13784889e-02  1.03177484e-02\n",
      " -3.67627846e-02 -9.99703099e-01  1.05675590e+00  3.24522455e-03\n",
      " -9.76295888e-03  8.30498291e-04 -3.85487215e-03  2.39895919e-02\n",
      "  1.97021300e-02  4.42097464e-03 -2.32079394e-02 -2.98087221e-02\n",
      "  8.63710433e-03 -9.74633084e-01 -9.95885350e-01  1.04160416e+00\n",
      " -2.51174373e-03 -1.03983741e+00 -1.54135306e-02  4.59429804e-02\n",
      " -9.59762599e-04  1.33776456e-02]\n",
      "Best Fitness: 11.828013325658958\n"
     ]
    }
   ],
   "source": [
    "\n",
    "def sphere(x):\n",
    "    return np.sum(x**2)\n",
    "\n",
    "def rastrigin_function(x):\n",
    "    return 10 * len(x) + np.sum(x**2 - 10 * np.cos(2 * np.pi * x))\n",
    "\n",
    "\n",
    "fn = lambda x:rastrigin_function(x)\n",
    "# Initialize optimizer\n",
    "rdo = RedDeerOptimization(fn, \n",
    "                        dimensions=30,\n",
    "                        bounds=(-5.12, 5.12),\n",
    "                        population_size=50,\n",
    "                        num_males=30,\n",
    "                        roosting_males=0.4,\n",
    "                        max_iter=1000)\n",
    "best_solution, best_fitness, convergenceCurve = rdo.optimize()\n",
    "print(f\"Best Solution: {best_solution}\")\n",
    "print(f\"Best Fitness: {best_fitness}\")"
   ]
  },
  {
   "cell_type": "code",
   "execution_count": 3,
   "metadata": {},
   "outputs": [
    {
     "data": {
      "text/plain": [
       "[<matplotlib.lines.Line2D at 0x12107e930>]"
      ]
     },
     "execution_count": 3,
     "metadata": {},
     "output_type": "execute_result"
    },
    {
     "data": {
      "image/png": "[encoded data removed]",
      "text/plain": [
       "<Figure size 640x480 with 1 Axes>"
      ]
     },
     "metadata": {},
     "output_type": "display_data"
    }
   ],
   "source": [
    "plt.plot(convergenceCurve)"
   ]
  },
  {
   "cell_type": "code",
   "execution_count": 3,
   "metadata": {},
   "outputs": [],
   "source": [
    "def ConvexCombination(Solution1, Solution2, Solution3, Solution4):\n",
    "        Alpha = np.random.uniform(0, 1, 4)\n",
    "        Alpha/Alpha.sum()\n",
    "        return Solution1 * Alpha[0] + Solution2 * Alpha[1] + Solution3 * Alpha[2] + Solution4 * Alpha[3]"
   ]
  },
  {
   "cell_type": "code",
   "execution_count": 4,
   "metadata": {},
   "outputs": [],
   "source": [
    "Solution1, Solution2, Solution3, Solution4 = np.random.uniform(-5, 5, (4, 5))"
   ]
  },
  {
   "cell_type": "code",
   "execution_count": 9,
   "metadata": {},
   "outputs": [
    {
     "data": {
      "text/plain": [
       "(5,)"
      ]
     },
     "execution_count": 9,
     "metadata": {},
     "output_type": "execute_result"
    }
   ],
   "source": [
    "Solution1.shape"
   ]
  },
  {
   "cell_type": "code",
   "execution_count": 5,
   "metadata": {},
   "outputs": [
    {
     "data": {
      "text/plain": [
       "array([-0.54982854, -0.42365562,  4.28296558,  2.61714287, -1.74187489])"
      ]
     },
     "execution_count": 5,
     "metadata": {},
     "output_type": "execute_result"
    }
   ],
   "source": [
    "ConvexCombination(Solution1, Solution2, Solution3, Solution4)"
   ]
  },
  {
   "cell_type": "code",
   "execution_count": 2,
   "metadata": {},
   "outputs": [
    {
     "data": {
      "text/plain": [
       "array([0.50689467, 0.84762653, 0.51023022, 0.82968174, 0.81945387,\n",
       "       0.67157203, 0.59255053, 0.9218386 , 0.36347535, 0.68635954])"
      ]
     },
     "execution_count": 2,
     "metadata": {},
     "output_type": "execute_result"
    }
   ],
   "source": [
    "np.random.rand(10)"
   ]
  }
 ],
 "metadata": {
  "kernelspec": {
   "display_name": "Python 3",
   "language": "python",
   "name": "python3"
  },
  "language_info": {
   "codemirror_mode": {
    "name": "ipython",
    "version": 3
   },
   "file_extension": ".py",
   "mimetype": "text/x-python",
   "name": "python",
   "nbconvert_exporter": "python",
   "pygments_lexer": "ipython3",
   "version": "3.12.1"
  }
 },
 "nbformat": 4,
 "nbformat_minor": 2
}
