{
 "cells": [
  {
   "cell_type": "code",
   "execution_count": null,
   "metadata": {},
   "outputs": [],
   "source": []
  },
  {
   "cell_type": "code",
   "execution_count": 1,
   "metadata": {},
   "outputs": [
    {
     "name": "stdout",
     "output_type": "stream",
     "text": [
      "Iteration 1/1000, Best Fitness: 354.353059\n",
      "Iteration 11/1000, Best Fitness: 210.349616\n",
      "Iteration 21/1000, Best Fitness: 184.688561\n",
      "Iteration 31/1000, Best Fitness: 141.622045\n",
      "Iteration 41/1000, Best Fitness: 110.528995\n",
      "Iteration 51/1000, Best Fitness: 87.384581\n",
      "Iteration 61/1000, Best Fitness: 68.659418\n",
      "Iteration 71/1000, Best Fitness: 45.901157\n",
      "Iteration 81/1000, Best Fitness: 28.032950\n",
      "Iteration 91/1000, Best Fitness: 22.228358\n",
      "Iteration 101/1000, Best Fitness: 18.357756\n",
      "Iteration 111/1000, Best Fitness: 17.490622\n",
      "Iteration 121/1000, Best Fitness: 15.036920\n",
      "Iteration 131/1000, Best Fitness: 14.771523\n",
      "Iteration 141/1000, Best Fitness: 14.701210\n",
      "Iteration 151/1000, Best Fitness: 14.684497\n",
      "Iteration 161/1000, Best Fitness: 14.684497\n",
      "Iteration 171/1000, Best Fitness: 14.684497\n",
      "Iteration 181/1000, Best Fitness: 14.235650\n",
      "Iteration 191/1000, Best Fitness: 14.235650\n",
      "Iteration 201/1000, Best Fitness: 14.235650\n",
      "Iteration 211/1000, Best Fitness: 14.229080\n",
      "Iteration 221/1000, Best Fitness: 14.229080\n",
      "Iteration 231/1000, Best Fitness: 14.229080\n",
      "Iteration 241/1000, Best Fitness: 14.229080\n",
      "Iteration 251/1000, Best Fitness: 14.229080\n",
      "Iteration 261/1000, Best Fitness: 14.229080\n",
      "Iteration 271/1000, Best Fitness: 14.229080\n",
      "Iteration 281/1000, Best Fitness: 10.502831\n",
      "Iteration 291/1000, Best Fitness: 10.041540\n",
      "Iteration 301/1000, Best Fitness: 10.041540\n",
      "Iteration 311/1000, Best Fitness: 9.887175\n",
      "Iteration 321/1000, Best Fitness: 9.887175\n",
      "Iteration 331/1000, Best Fitness: 9.887175\n",
      "Iteration 341/1000, Best Fitness: 9.887175\n",
      "Iteration 351/1000, Best Fitness: 7.956792\n",
      "Iteration 361/1000, Best Fitness: 7.956792\n",
      "Iteration 371/1000, Best Fitness: 7.956792\n",
      "Iteration 381/1000, Best Fitness: 7.956792\n",
      "Iteration 391/1000, Best Fitness: 7.335779\n",
      "Iteration 401/1000, Best Fitness: 6.547986\n",
      "Iteration 411/1000, Best Fitness: 6.064231\n",
      "Iteration 421/1000, Best Fitness: 5.189959\n",
      "Iteration 431/1000, Best Fitness: 4.896889\n",
      "Iteration 441/1000, Best Fitness: 4.870625\n",
      "Iteration 451/1000, Best Fitness: 4.804306\n",
      "Iteration 461/1000, Best Fitness: 4.284986\n",
      "Iteration 471/1000, Best Fitness: 4.284986\n",
      "Iteration 481/1000, Best Fitness: 4.024877\n",
      "Iteration 491/1000, Best Fitness: 4.024877\n",
      "Iteration 501/1000, Best Fitness: 4.024877\n",
      "Iteration 511/1000, Best Fitness: 4.024877\n",
      "Iteration 521/1000, Best Fitness: 2.743470\n",
      "Iteration 531/1000, Best Fitness: 2.476410\n",
      "Iteration 541/1000, Best Fitness: 2.316980\n",
      "Iteration 551/1000, Best Fitness: 2.316980\n",
      "Iteration 561/1000, Best Fitness: 2.056119\n",
      "Iteration 571/1000, Best Fitness: 2.056119\n",
      "Iteration 581/1000, Best Fitness: 2.056119\n",
      "Iteration 591/1000, Best Fitness: 1.882452\n",
      "Iteration 601/1000, Best Fitness: 1.825891\n",
      "Iteration 611/1000, Best Fitness: 1.825891\n",
      "Iteration 621/1000, Best Fitness: 1.825891\n",
      "Iteration 631/1000, Best Fitness: 1.657044\n",
      "Iteration 641/1000, Best Fitness: 1.657044\n",
      "Iteration 651/1000, Best Fitness: 1.657044\n",
      "Iteration 661/1000, Best Fitness: 1.657044\n",
      "Iteration 671/1000, Best Fitness: 1.053999\n",
      "Iteration 681/1000, Best Fitness: 0.979252\n",
      "Iteration 691/1000, Best Fitness: 0.354185\n",
      "Iteration 701/1000, Best Fitness: 0.314722\n",
      "Iteration 711/1000, Best Fitness: 0.267487\n",
      "Iteration 721/1000, Best Fitness: 0.244366\n",
      "Iteration 731/1000, Best Fitness: 0.227265\n",
      "Iteration 741/1000, Best Fitness: 0.135241\n",
      "Iteration 751/1000, Best Fitness: 0.123056\n",
      "Iteration 761/1000, Best Fitness: 0.116513\n",
      "Iteration 771/1000, Best Fitness: 0.096960\n",
      "Iteration 781/1000, Best Fitness: 0.096960\n",
      "Iteration 791/1000, Best Fitness: 0.076804\n",
      "Iteration 801/1000, Best Fitness: 0.076804\n",
      "Iteration 811/1000, Best Fitness: 0.064827\n",
      "Iteration 821/1000, Best Fitness: 0.060158\n",
      "Iteration 831/1000, Best Fitness: 0.059866\n",
      "Iteration 841/1000, Best Fitness: 0.059133\n",
      "Iteration 851/1000, Best Fitness: 0.057594\n",
      "Iteration 861/1000, Best Fitness: 0.050100\n",
      "Iteration 871/1000, Best Fitness: 0.046526\n",
      "Iteration 881/1000, Best Fitness: 0.036536\n",
      "Iteration 891/1000, Best Fitness: 0.036536\n",
      "Iteration 901/1000, Best Fitness: 0.034704\n",
      "Iteration 911/1000, Best Fitness: 0.030993\n",
      "Iteration 921/1000, Best Fitness: 0.027547\n",
      "Iteration 931/1000, Best Fitness: 0.027547\n",
      "Iteration 941/1000, Best Fitness: 0.027204\n",
      "Iteration 951/1000, Best Fitness: 0.027180\n",
      "Iteration 961/1000, Best Fitness: 0.026028\n",
      "Iteration 971/1000, Best Fitness: 0.022717\n",
      "Iteration 981/1000, Best Fitness: 0.018858\n",
      "Iteration 991/1000, Best Fitness: 0.018696\n",
      "Iteration 1000/1000, Best Fitness: 0.018696\n",
      "Best Solution: [ 0.00214805 -0.00138714  0.00114815 -0.00060301  0.00010522  0.00225306\n",
      " -0.0009235   0.00122586 -0.00081049 -0.00297045  0.00217166 -0.00169127\n",
      " -0.0020859  -0.00130314  0.00038765  0.00081034  0.00183755 -0.00140801\n",
      " -0.00065374 -0.00133257  0.00032873  0.00349206 -0.00443977  0.00113823\n",
      "  0.0004154  -0.00246374  0.00052152  0.00202698  0.00068982  0.00164143]\n",
      "Best Fitness: 0.018696226049655706\n"
     ]
    }
   ],
   "source": [
    "from red_deer_optimization import *\n",
    "def sphere(x):\n",
    "    return np.sum(x**2)\n",
    "\n",
    "def rastrigin_function(x):\n",
    "    return 10 * len(x) + np.sum(x**2 - 10 * np.cos(2 * np.pi * x))\n",
    "\n",
    "\n",
    "fn = lambda x:rastrigin_function(x)\n",
    "# Initialize optimizer\n",
    "rdo = RedDeerOptimization(fn, \n",
    "                        dimensions=30,\n",
    "                        bounds=(-5.12, 5.12),\n",
    "                        population_size=50,\n",
    "                        num_males=30,\n",
    "                        roosting_males=0.4,\n",
    "                        max_iter=1000)\n",
    "best_solution, best_fitness = rdo.optimize()\n",
    "print(f\"Best Solution: {best_solution}\")\n",
    "print(f\"Best Fitness: {best_fitness}\")"
   ]
  },
  {
   "cell_type": "code",
   "execution_count": 3,
   "metadata": {},
   "outputs": [],
   "source": [
    "def ConvexCombination(Solution1, Solution2, Solution3, Solution4):\n",
    "        Alpha = np.random.uniform(0, 1, 4)\n",
    "        Alpha/Alpha.sum()\n",
    "        return Solution1 * Alpha[0] + Solution2 * Alpha[1] + Solution3 * Alpha[2] + Solution4 * Alpha[3]"
   ]
  },
  {
   "cell_type": "code",
   "execution_count": 4,
   "metadata": {},
   "outputs": [],
   "source": [
    "Solution1, Solution2, Solution3, Solution4 = np.random.uniform(-5, 5, (4, 5))"
   ]
  },
  {
   "cell_type": "code",
   "execution_count": 9,
   "metadata": {},
   "outputs": [
    {
     "data": {
      "text/plain": [
       "(5,)"
      ]
     },
     "execution_count": 9,
     "metadata": {},
     "output_type": "execute_result"
    }
   ],
   "source": [
    "Solution1.shape"
   ]
  },
  {
   "cell_type": "code",
   "execution_count": 5,
   "metadata": {},
   "outputs": [
    {
     "data": {
      "text/plain": [
       "array([-0.54982854, -0.42365562,  4.28296558,  2.61714287, -1.74187489])"
      ]
     },
     "execution_count": 5,
     "metadata": {},
     "output_type": "execute_result"
    }
   ],
   "source": [
    "ConvexCombination(Solution1, Solution2, Solution3, Solution4)"
   ]
  },
  {
   "cell_type": "code",
   "execution_count": 2,
   "metadata": {},
   "outputs": [
    {
     "data": {
      "text/plain": [
       "array([0.50689467, 0.84762653, 0.51023022, 0.82968174, 0.81945387,\n",
       "       0.67157203, 0.59255053, 0.9218386 , 0.36347535, 0.68635954])"
      ]
     },
     "execution_count": 2,
     "metadata": {},
     "output_type": "execute_result"
    }
   ],
   "source": [
    "np.random.rand(10)"
   ]
  }
 ],
 "metadata": {
  "kernelspec": {
   "display_name": "Python 3",
   "language": "python",
   "name": "python3"
  },
  "language_info": {
   "codemirror_mode": {
    "name": "ipython",
    "version": 3
   },
   "file_extension": ".py",
   "mimetype": "text/x-python",
   "name": "python",
   "nbconvert_exporter": "python",
   "pygments_lexer": "ipython3",
   "version": "3.12.1"
  }
 },
 "nbformat": 4,
 "nbformat_minor": 2
}
