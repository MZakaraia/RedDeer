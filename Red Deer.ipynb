{
 "cells": [
  {
   "cell_type": "code",
   "execution_count": 1,
   "metadata": {},
   "outputs": [],
   "source": [
    "from red_deer_optimization import *"
   ]
  },
  {
   "cell_type": "code",
   "execution_count": null,
   "metadata": {},
   "outputs": [
    {
     "name": "stdout",
     "output_type": "stream",
     "text": [
      "Iteration 1/300, Best Fitness: 357.785813\n",
      "Iteration 11/300, Best Fitness: 182.273712\n",
      "Iteration 21/300, Best Fitness: 93.750023\n",
      "Iteration 31/300, Best Fitness: 54.944688\n",
      "Iteration 41/300, Best Fitness: 40.005952\n",
      "Iteration 51/300, Best Fitness: 36.128981\n",
      "Iteration 61/300, Best Fitness: 34.599297\n",
      "Iteration 71/300, Best Fitness: 33.901231\n",
      "Iteration 81/300, Best Fitness: 33.513002\n",
      "Iteration 91/300, Best Fitness: 33.275588\n",
      "Iteration 101/300, Best Fitness: 33.198226\n",
      "Iteration 111/300, Best Fitness: 33.119612\n",
      "Iteration 121/300, Best Fitness: 33.060667\n",
      "Iteration 131/300, Best Fitness: 32.975936\n",
      "Iteration 141/300, Best Fitness: 32.950907\n",
      "Iteration 151/300, Best Fitness: 32.944338\n",
      "Iteration 161/300, Best Fitness: 32.934351\n",
      "Iteration 171/300, Best Fitness: 32.924035\n",
      "Iteration 181/300, Best Fitness: 32.916514\n",
      "Iteration 191/300, Best Fitness: 32.907725\n",
      "Iteration 201/300, Best Fitness: 32.899498\n",
      "Iteration 211/300, Best Fitness: 32.894196\n",
      "Iteration 221/300, Best Fitness: 32.888954\n",
      "Iteration 231/300, Best Fitness: 32.887341\n",
      "Iteration 241/300, Best Fitness: 32.882048\n",
      "Iteration 251/300, Best Fitness: 32.876439\n",
      "Iteration 261/300, Best Fitness: 32.871241\n",
      "Iteration 271/300, Best Fitness: 32.869369\n",
      "Iteration 281/300, Best Fitness: 32.862959\n",
      "Iteration 291/300, Best Fitness: 32.860927\n",
      "Iteration 300/300, Best Fitness: 32.859517\n",
      "Best Solution: [ 3.07493414e-03 -9.93017744e-01 -1.19505464e-03  2.62381507e-03\n",
      " -1.44299337e-04  9.97328454e-01  9.97821418e-01  8.98542226e-04\n",
      " -2.07750527e-03  9.95825299e-01  4.85151808e-05 -9.94200016e-01\n",
      "  4.23955937e-04 -9.91822710e-01 -2.98247810e+00 -9.95715462e-01\n",
      "  9.96181872e-01  9.91567893e-01  7.86791069e-04 -9.97091013e-01\n",
      "  8.34855901e-05 -1.99133422e+00 -1.99233470e+00 -1.98886473e+00\n",
      "  3.57753460e-03  3.98878692e-03 -9.95824492e-01  7.95706662e-04\n",
      "  2.00530213e-03  9.98330389e-01]\n",
      "Best Fitness: 32.85951722469679\n"
     ]
    }
   ],
   "source": [
    "def sphere(x):\n",
    "    return np.sum(x**2)\n",
    "\n",
    "def rastrigin_function(x):\n",
    "    return 10 * len(x) + np.sum(x**2 - 10 * np.cos(2 * np.pi * x))\n",
    "\n",
    "\n",
    "fn = lambda x:rastrigin_function(x)\n",
    "# Initialize optimizer\n",
    "rdo = RedDeerOptimization(fn, \n",
    "                        dimensions=30,\n",
    "                        bounds=(-5.12, 5.12),\n",
    "                        population_size=100,\n",
    "                        num_males=20,\n",
    "                        roosting_males=0.4,\n",
    "                        max_iter=300)\n",
    "best_solution, best_fitness = rdo.optimize()\n",
    "print(f\"Best Solution: {best_solution}\")\n",
    "print(f\"Best Fitness: {best_fitness}\")"
   ]
  },
  {
   "cell_type": "code",
   "execution_count": 3,
   "metadata": {},
   "outputs": [],
   "source": [
    "def ConvexCombination(Solution1, Solution2, Solution3, Solution4):\n",
    "        Alpha = np.random.uniform(0, 1, 4)\n",
    "        Alpha/Alpha.sum()\n",
    "        return Solution1 * Alpha[0] + Solution2 * Alpha[1] + Solution3 * Alpha[2] + Solution4 * Alpha[3]"
   ]
  },
  {
   "cell_type": "code",
   "execution_count": 4,
   "metadata": {},
   "outputs": [],
   "source": [
    "Solution1, Solution2, Solution3, Solution4 = np.random.uniform(-5, 5, (4, 5))"
   ]
  },
  {
   "cell_type": "code",
   "execution_count": 9,
   "metadata": {},
   "outputs": [
    {
     "data": {
      "text/plain": [
       "(5,)"
      ]
     },
     "execution_count": 9,
     "metadata": {},
     "output_type": "execute_result"
    }
   ],
   "source": [
    "Solution1.shape"
   ]
  },
  {
   "cell_type": "code",
   "execution_count": 5,
   "metadata": {},
   "outputs": [
    {
     "data": {
      "text/plain": [
       "array([-0.54982854, -0.42365562,  4.28296558,  2.61714287, -1.74187489])"
      ]
     },
     "execution_count": 5,
     "metadata": {},
     "output_type": "execute_result"
    }
   ],
   "source": [
    "ConvexCombination(Solution1, Solution2, Solution3, Solution4)"
   ]
  },
  {
   "cell_type": "code",
   "execution_count": null,
   "metadata": {},
   "outputs": [
    {
     "data": {
      "text/plain": [
       "0.9999999999999999"
      ]
     },
     "execution_count": 5,
     "metadata": {},
     "output_type": "execute_result"
    }
   ],
   "source": [
    "Alpha = np.random.uniform(0, 1, 4)\n",
    "Alpha/Alpha.sum()"
   ]
  },
  {
   "cell_type": "code",
   "execution_count": 8,
   "metadata": {},
   "outputs": [],
   "source": [
    "start = 0\n",
    "harems = []\n",
    "harem_sizes = range(10)\n",
    "for size in harem_sizes:\n",
    "    harems.append((start,start+size))\n",
    "    start += size"
   ]
  },
  {
   "cell_type": "code",
   "execution_count": 9,
   "metadata": {},
   "outputs": [
    {
     "data": {
      "text/plain": [
       "[(0, 0),\n",
       " (0, 1),\n",
       " (1, 3),\n",
       " (3, 6),\n",
       " (6, 10),\n",
       " (10, 15),\n",
       " (15, 21),\n",
       " (21, 28),\n",
       " (28, 36),\n",
       " (36, 45)]"
      ]
     },
     "execution_count": 9,
     "metadata": {},
     "output_type": "execute_result"
    }
   ],
   "source": [
    "harems"
   ]
  },
  {
   "cell_type": "code",
   "execution_count": 6,
   "metadata": {},
   "outputs": [],
   "source": [
    "class Temp:\n",
    "    def __init__(self):\n",
    "        pass\n",
    "\n",
    "    def fn(self, x):\n",
    "        return x\n"
   ]
  },
  {
   "cell_type": "code",
   "execution_count": 7,
   "metadata": {},
   "outputs": [],
   "source": [
    "y = Temp()"
   ]
  },
  {
   "cell_type": "code",
   "execution_count": 8,
   "metadata": {},
   "outputs": [
    {
     "data": {
      "text/plain": [
       "2"
      ]
     },
     "execution_count": 8,
     "metadata": {},
     "output_type": "execute_result"
    }
   ],
   "source": [
    "y.fn(2)"
   ]
  },
  {
   "cell_type": "code",
   "execution_count": null,
   "metadata": {},
   "outputs": [],
   "source": []
  }
 ],
 "metadata": {
  "kernelspec": {
   "display_name": "Python 3",
   "language": "python",
   "name": "python3"
  },
  "language_info": {
   "codemirror_mode": {
    "name": "ipython",
    "version": 3
   },
   "file_extension": ".py",
   "mimetype": "text/x-python",
   "name": "python",
   "nbconvert_exporter": "python",
   "pygments_lexer": "ipython3",
   "version": "3.12.1"
  }
 },
 "nbformat": 4,
 "nbformat_minor": 2
}
