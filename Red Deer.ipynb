{
 "cells": [
  {
   "cell_type": "code",
   "execution_count": 1,
   "metadata": {},
   "outputs": [],
   "source": [
    "from red_deer_optimization import *\n",
    "from functions_test import *\n",
    "import pandas as pd\n",
    "import matplotlib.pyplot as plt"
   ]
  },
  {
   "cell_type": "code",
   "execution_count": 2,
   "metadata": {},
   "outputs": [],
   "source": [
    "from genetic_algorithm import *\n",
    "from RedDeer_Chaotic_Mapping import *"
   ]
  },
  {
   "cell_type": "code",
   "execution_count": 4,
   "metadata": {},
   "outputs": [
    {
     "name": "stdout",
     "output_type": "stream",
     "text": [
      "Best Solution: [ 0.00490216 -0.01861706  0.03210372 -0.00464822 -0.01072303  0.01511542\n",
      "  0.01208144  0.01661159  0.02712795  0.04462825 -0.00715585  0.06089022\n",
      "  0.05765544 -0.02236326 -0.00440481  0.00768478  0.01012389  0.01109579\n",
      " -0.04697811  0.07558209  0.02185923 -0.00469111  0.00755479 -0.02471661\n",
      "  0.00703756  0.00522179  0.05711975 -0.02061663 -1.08458012  0.00834826]\n",
      "Best Fitness: 7.607464700466892\n"
     ]
    }
   ],
   "source": [
    "def rastrigin_function(x):\n",
    "    return 10 * len(x) + np.sum(x**2 - 10 * np.cos(2 * np.pi * x))\n",
    "fn = lambda x:rastrigin_function(x)\n",
    "\n",
    "rdo = RedDeerOptimization_Chaotic(fn, \n",
    "                        dimensions=30,\n",
    "                        bounds=(-5.12, 5.12),\n",
    "                        population_size=50,\n",
    "                        num_males=30,\n",
    "                        roosting_males=0.4,\n",
    "                        max_iter=1000)\n",
    "best_solution, best_fitness, convergenceCurve = rdo.optimize()\n",
    "print(f\"Best Solution: {best_solution}\")\n",
    "print(f\"Best Fitness: {best_fitness}\")\n"
   ]
  },
  {
   "cell_type": "code",
   "execution_count": 14,
   "metadata": {},
   "outputs": [
    {
     "data": {
      "text/plain": [
       "7.959759777341986"
      ]
     },
     "execution_count": 14,
     "metadata": {},
     "output_type": "execute_result"
    }
   ],
   "source": [
    "def rastrigin_function(x):\n",
    "    return 10 * len(x) + np.sum(x**2 - 10 * np.cos(2 * np.pi * x))\n",
    "fn = lambda x:rastrigin_function(x)\n",
    "\n",
    "GA = GeneticAlgorithm(fn,50,10,0.5,0.8,max_generations=1000)\n",
    "GA.run()[1]"
   ]
  },
  {
   "cell_type": "code",
   "execution_count": 10,
   "metadata": {},
   "outputs": [],
   "source": [
    "TestFunctions = pd.read_excel('TestFunctions.xlsx')"
   ]
  },
  {
   "cell_type": "code",
   "execution_count": 9,
   "metadata": {},
   "outputs": [
    {
     "data": {
      "text/plain": [
       "('ackley', 'Ackley', -32.0, 32.0)"
      ]
     },
     "execution_count": 9,
     "metadata": {},
     "output_type": "execute_result"
    }
   ],
   "source": [
    "FunNameCode, FuncName, LB, UB = TestFunctions.loc[0]\n",
    "FunNameCode, FuncName, LB, UB"
   ]
  },
  {
   "cell_type": "code",
   "execution_count": null,
   "metadata": {},
   "outputs": [],
   "source": [
    "for i in TestFunctions.shape[0]:\n",
    "    FunNameCode, FuncName, LB, UB = TestFunctions.loc[i]\n",
    "    \n"
   ]
  },
  {
   "cell_type": "code",
   "execution_count": 7,
   "metadata": {},
   "outputs": [
    {
     "name": "stdout",
     "output_type": "stream",
     "text": [
      "Best Solution: [ 9.83657484e-01  6.07940390e-02  2.19135618e-02  1.00394604e+00\n",
      "  1.77726471e-01  3.18534811e-03  3.93027186e-02  8.48102392e-02\n",
      "  6.01145887e-02 -1.92830216e-02 -1.81959042e-02 -4.13339148e-02\n",
      "  9.76822221e-01  4.65158379e-02  1.08864855e+00 -1.60131545e-02\n",
      " -2.13108379e-02 -5.44382292e-02  7.25895266e-04 -3.43738694e-02\n",
      "  1.01595772e-03  9.19530118e-02 -3.55670578e-03  1.22383572e-01\n",
      " -4.58162164e-02  9.51216978e-01 -2.21513988e-02  9.94570138e-01\n",
      "  1.33503918e-02  9.72416259e-01]\n",
      "Best Fitness: 24.991174133080563\n"
     ]
    }
   ],
   "source": [
    "\n",
    "def sphere(x):\n",
    "    return np.sum(x**2)\n",
    "\n",
    "def rastrigin_function(x):\n",
    "    return 10 * len(x) + np.sum(x**2 - 10 * np.cos(2 * np.pi * x))\n",
    "\n",
    "\n",
    "fn = lambda x:rastrigin_function(x)\n",
    "# Initialize optimizer\n",
    "rdo = RedDeerOptimization(fn, \n",
    "                        dimensions=30,\n",
    "                        bounds=(-5.12, 5.12),\n",
    "                        population_size=50,\n",
    "                        num_males=30,\n",
    "                        roosting_males=0.4,\n",
    "                        max_iter=1000)\n",
    "best_solution, best_fitness, convergenceCurve = rdo.optimize()\n",
    "print(f\"Best Solution: {best_solution}\")\n",
    "print(f\"Best Fitness: {best_fitness}\")"
   ]
  },
  {
   "cell_type": "code",
   "execution_count": 3,
   "metadata": {},
   "outputs": [
    {
     "data": {
      "text/plain": [
       "[<matplotlib.lines.Line2D at 0x1228d1c10>]"
      ]
     },
     "execution_count": 3,
     "metadata": {},
     "output_type": "execute_result"
    },
    {
     "data": {
      "image/png": "[encoded data removed]",
      "text/plain": [
       "<Figure size 640x480 with 1 Axes>"
      ]
     },
     "metadata": {},
     "output_type": "display_data"
    }
   ],
   "source": [
    "plt.plot(convergenceCurve)"
   ]
  },
  {
   "cell_type": "code",
   "execution_count": 3,
   "metadata": {},
   "outputs": [],
   "source": [
    "def ConvexCombination(Solution1, Solution2, Solution3, Solution4):\n",
    "        Alpha = np.random.uniform(0, 1, 4)\n",
    "        Alpha/Alpha.sum()\n",
    "        return Solution1 * Alpha[0] + Solution2 * Alpha[1] + Solution3 * Alpha[2] + Solution4 * Alpha[3]"
   ]
  },
  {
   "cell_type": "code",
   "execution_count": 4,
   "metadata": {},
   "outputs": [],
   "source": [
    "Solution1, Solution2, Solution3, Solution4 = np.random.uniform(-5, 5, (4, 5))"
   ]
  },
  {
   "cell_type": "code",
   "execution_count": 9,
   "metadata": {},
   "outputs": [
    {
     "data": {
      "text/plain": [
       "(5,)"
      ]
     },
     "execution_count": 9,
     "metadata": {},
     "output_type": "execute_result"
    }
   ],
   "source": [
    "Solution1.shape"
   ]
  },
  {
   "cell_type": "code",
   "execution_count": 5,
   "metadata": {},
   "outputs": [
    {
     "data": {
      "text/plain": [
       "array([-0.54982854, -0.42365562,  4.28296558,  2.61714287, -1.74187489])"
      ]
     },
     "execution_count": 5,
     "metadata": {},
     "output_type": "execute_result"
    }
   ],
   "source": [
    "ConvexCombination(Solution1, Solution2, Solution3, Solution4)"
   ]
  },
  {
   "cell_type": "code",
   "execution_count": 2,
   "metadata": {},
   "outputs": [
    {
     "data": {
      "text/plain": [
       "array([0.50689467, 0.84762653, 0.51023022, 0.82968174, 0.81945387,\n",
       "       0.67157203, 0.59255053, 0.9218386 , 0.36347535, 0.68635954])"
      ]
     },
     "execution_count": 2,
     "metadata": {},
     "output_type": "execute_result"
    }
   ],
   "source": [
    "np.random.rand(10)"
   ]
  }
 ],
 "metadata": {
  "kernelspec": {
   "display_name": "Python 3",
   "language": "python",
   "name": "python3"
  },
  "language_info": {
   "codemirror_mode": {
    "name": "ipython",
    "version": 3
   },
   "file_extension": ".py",
   "mimetype": "text/x-python",
   "name": "python",
   "nbconvert_exporter": "python",
   "pygments_lexer": "ipython3",
   "version": "3.12.1"
  }
 },
 "nbformat": 4,
 "nbformat_minor": 2
}
