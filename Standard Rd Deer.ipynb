{
 "cells": [
  {
   "cell_type": "code",
   "execution_count": 19,
   "metadata": {},
   "outputs": [
    {
     "name": "stdout",
     "output_type": "stream",
     "text": [
      "Best Solution: [ 6.69577691 -1.12255718 -2.8012344   3.81964442 -4.20221029  4.01170566\n",
      " -0.3013178   3.91918542 -3.84273802 -4.91622254]\n",
      "Best Fitness: 156.66920079371542\n"
     ]
    }
   ],
   "source": [
    "import numpy as np\n",
    "def sphere_function(x):\n",
    "    return np.sum(x**2)\n",
    "dimension = 10\n",
    "population_size = 50\n",
    "max_iterations = 100\n",
    "class RedDeerAlgorithm:\n",
    "    def __init__(self, cost_function, dimension, LB, UB, population_size=30, max_iterations=100):\n",
    "        self.cost_function = cost_function\n",
    "        self.dimension = dimension\n",
    "        self.population_size = population_size\n",
    "        self.max_iterations = max_iterations\n",
    "        self.red_deer_percentage = 0.1  # نسبة ذكور الأيل الأحمر\n",
    "        self.stag_percentage = 0.4      # نسبة الذكور المنافسة (Stags)\n",
    "        self.LB = LB\n",
    "        self.UB = UB\n",
    "        # self.population = np.random.rand(population_size, dimension)  # تهيئة عشوائية للسكان\n",
    "        self.population = np.random.uniform(LB, UB, (self.population_size, self.dimension))\n",
    "        self.fitness = np.array([cost_function(deer) for deer in self.population])\n",
    "        self.best_deer = self.population[np.argmin(self.fitness)]\n",
    "        self.best_fitness = np.min(self.fitness)\n",
    "        self.convergenceCurve = []\n",
    "\n",
    "    def run(self):\n",
    "        for iteration in range(self.max_iterations):\n",
    "            self.red_deer_count = int(self.population_size * self.red_deer_percentage)\n",
    "            self.stag_count = int(self.population_size * self.stag_percentage)\n",
    "\n",
    "            # تحديد الأيل الأحمر (الأفضل) والذكور المنافسة\n",
    "            self.red_deer_indices = np.argsort(self.fitness)[:self.red_deer_count]\n",
    "            self.stags_indices = np.argsort(self.fitness)[self.red_deer_count:self.red_deer_count + self.stag_count]\n",
    "            self.red_deer = self.population[self.red_deer_indices]\n",
    "            self.stags = self.population[self.stags_indices]\n",
    "\n",
    "            # التزاوج\n",
    "            for i in range(self.red_deer_count):\n",
    "                for j in range(self.population_size):\n",
    "                    if np.random.rand() < 0.1:  # احتمالية التزاوج\n",
    "                        alpha = np.random.rand()\n",
    "                        new_deer = alpha * self.red_deer[i] + (1 - alpha) * self.population[j]\n",
    "                        new_deer = np.clip(new_deer, self.LB, self.UB)  # الحفاظ على الحدود\n",
    "                        new_fitness = self.cost_function(new_deer)\n",
    "\n",
    "                        if new_fitness < self.fitness[j]:\n",
    "                            self.population[j] = new_deer\n",
    "                            self.fitness[j] = new_fitness\n",
    "\n",
    "            # المنافسة\n",
    "            for i in range(self.stag_count):\n",
    "                for j in range(self.red_deer_count):\n",
    "                    if np.random.rand() < 0.5:  # احتمالية المنافسة\n",
    "                        if self.fitness[self.stags_indices[i]] < self.fitness[self.red_deer_indices[j]]:\n",
    "                            # تبديل المواقع إذا كان الذكر المنافس أفضل\n",
    "                            temp = self.population[self.red_deer_indices[j]].copy()\n",
    "                            self.population[self.red_deer_indices[j]] = self.population[self.stags_indices[i]]\n",
    "                            self.population[self.stags_indices[i]] = temp\n",
    "\n",
    "                            # تحديث اللياقة\n",
    "                            self.fitness[self.red_deer_indices[j]] = self.cost_function(self.population[self.red_deer_indices[j]])\n",
    "                            self.fitness[self.stags_indices[i]] = self.cost_function(self.population[self.stags_indices[i]])\n",
    "\n",
    "            # تحديث أفضل حل\n",
    "            current_best_index = np.argmin(self.fitness)\n",
    "            if self.fitness[current_best_index] < self.best_fitness:\n",
    "                self.best_deer = self.population[current_best_index]\n",
    "                self.best_fitness = self.fitness[current_best_index]\n",
    "            self.convergenceCurve.append(self.best_fitness)\n",
    "           # print(f\"Iteration {iteration + 1}: Best Fitness = {self.best_fitness}\")\n",
    "        self.convergenceCurve = np.array(self.convergenceCurve)\n",
    "        return self.best_deer, self.best_fitness\n",
    "LB, UB = -100, 100\n",
    "rda = RedDeerAlgorithm(sphere_function, dimension, LB, UB, population_size, max_iterations)\n",
    "best_solution, best_fitness = rda.run()\n",
    "print(\"Best Solution:\", best_solution)\n",
    "print(\"Best Fitness:\", best_fitness)\n"
   ]
  },
  {
   "cell_type": "code",
   "execution_count": 20,
   "metadata": {},
   "outputs": [
    {
     "data": {
      "text/plain": [
       "Text(0, 0.5, 'F(x)')"
      ]
     },
     "execution_count": 20,
     "metadata": {},
     "output_type": "execute_result"
    },
    {
     "data": {
      "image/png": "[encoded data removed]",
      "text/plain": [
       "<Figure size 640x480 with 1 Axes>"
      ]
     },
     "metadata": {},
     "output_type": "display_data"
    }
   ],
   "source": [
    "import matplotlib.pyplot as plt\n",
    "plt.plot(rda.convergenceCurve)\n",
    "plt.xlabel('Iterations')\n",
    "plt.ylabel('F(x)')"
   ]
  }
 ],
 "metadata": {
  "kernelspec": {
   "display_name": "Python 3",
   "language": "python",
   "name": "python3"
  },
  "language_info": {
   "codemirror_mode": {
    "name": "ipython",
    "version": 3
   },
   "file_extension": ".py",
   "mimetype": "text/x-python",
   "name": "python",
   "nbconvert_exporter": "python",
   "pygments_lexer": "ipython3",
   "version": "3.12.1"
  }
 },
 "nbformat": 4,
 "nbformat_minor": 2
}
